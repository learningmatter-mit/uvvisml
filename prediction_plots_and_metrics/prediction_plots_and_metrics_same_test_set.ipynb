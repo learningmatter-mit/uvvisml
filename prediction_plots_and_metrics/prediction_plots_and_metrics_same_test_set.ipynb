{
 "cells": [
  {
   "cell_type": "code",
   "execution_count": null,
   "metadata": {},
   "outputs": [],
   "source": [
    "import pandas as pd\n",
    "import matplotlib.pyplot as plt\n",
    "from sklearn.metrics import mean_squared_error, mean_absolute_error, r2_score\n",
    "import os\n",
    "\n",
    "CURR_DIR = os.getcwd()"
   ]
  },
  {
   "cell_type": "code",
   "execution_count": null,
   "metadata": {},
   "outputs": [],
   "source": [
    "def make_plot(preds_file, true_file, col_name, title, units, img_name):\n",
    "    preds_df = pd.read_csv(preds_file)\n",
    "    true_df = pd.read_csv(true_file)\n",
    "\n",
    "    true_value = true_df[col_name]\n",
    "    pred_value = preds_df[col_name]\n",
    "\n",
    "    plt.figure(figsize=(5,5))\n",
    "    plt.scatter(true_value, pred_value)\n",
    "    plt.title(title, fontsize=15)\n",
    "    if units != '':\n",
    "        plt.xlabel('true values (' + units + ')', fontsize=12)\n",
    "        plt.ylabel('predictions (' + units + ')', fontsize=12)\n",
    "    else:\n",
    "        plt.xlabel('true values', fontsize=12)\n",
    "        plt.ylabel('predictions', fontsize=12)\n",
    "    plt.axis('equal')\n",
    "    metrics = calculate_metrics(true_value, pred_value)\n",
    "#     plt.text(0, 1.25, metrics, verticalalignment='top')\n",
    "#     plt.text(0, -0.1, metrics, ha = 'left', verticalalignment='top')\n",
    "    plt.figtext(0.1, 0.0, metrics)\n",
    "    file_path = 'prediction_plots_images_same_test_set/' + img_name\n",
    "    plt.savefig(file_path)\n",
    "#     plt.show()"
   ]
  },
  {
   "cell_type": "code",
   "execution_count": null,
   "metadata": {},
   "outputs": [],
   "source": [
    "#testing\n",
    "\n",
    "preds_file = 'uvvisml/models_same_test_set/lambda_max_abs_checkpoints/group_by_smiles/lambda_max_abs_preds.csv'\n",
    "true_file = 'uvvisml/data/splits_same_test_set/lambda_max_abs/deep4chem/group_by_smiles/smiles_target_test.csv'\n",
    "col_name = 'abs_peakwavs_max'\n",
    "title = 'lambda max abs, group by smiles'\n",
    "units = 'nm'\n",
    "img_name = 'abs_peakwavs_max__group_by_smiles__alone.png'\n",
    "\n",
    "make_plot(preds_file, true_file, col_name, title, units, img_name)"
   ]
  },
  {
   "cell_type": "code",
   "execution_count": null,
   "metadata": {},
   "outputs": [],
   "source": [
    "def calculate_metrics(true_value, predicted_value):\n",
    "    rms = round(mean_squared_error(true_value, predicted_value, squared=False), 7)\n",
    "    mae = round(mean_absolute_error(true_value, predicted_value), 7)\n",
    "    r2 = round(r2_score(true_value, predicted_value), 7)\n",
    "    \n",
    "    result = 'RMS: ' + str(rms) + ',  MAE: ' + str(mae) + ',  $R^2$: ' + str(r2)\n",
    "    return result"
   ]
  },
  {
   "cell_type": "code",
   "execution_count": null,
   "metadata": {},
   "outputs": [],
   "source": [
    "opt_properties = ['lambda_max_abs', 'lambda_max_emi', 'both_peaks']\n",
    "split_types = ['group_by_smiles', 'random', 'scaffold']\n",
    "\n",
    "prop_to_col_name = {'lambda_max_abs': 'abs_peakwavs_max',\n",
    "                   'lambda_max_emi': 'emi_peakwavs_max',\n",
    "                   'both_peaks': ['abs_peakwavs_max', 'emi_peakwavs_max'],\n",
    "                    'abs_all': ['abs_peakwavs_max', 'abs_bandwidth', 'abs_molar_ext_coeff'],\n",
    "                    'emi_all': ['emi_peakwavs_max', 'emi_bandwidth'],\n",
    "                    'multitask_peak_stats': ['abs_peakwavs_max', 'abs_bandwidth', 'abs_molar_ext_coeff', 'emi_peakwavs_max', 'emi_bandwidth'],\n",
    "                   'multitask_all': ['abs_peakwavs_max', 'abs_bandwidth', 'abs_molar_ext_coeff', 'emi_peakwavs_max', 'emi_bandwidth', 'quantum_yield', 'log_lifetime'],\n",
    "                    'quantum_yield': 'quantum_yield',\n",
    "                    'log_lifetime': 'log_lifetime'}\n",
    "\n",
    "col_units = {'peakwavs_max': 'nm',\n",
    "           'emi_peakwavs_max': 'nm',\n",
    "           'abs_peakwavs_max': 'nm',\n",
    "            'abs_bandwidth': 'nm',\n",
    "             'abs_molar_ext_coeff': '$mol^{-1}$ $dm^3$ $cm^{-1}$',\n",
    "            'emi_bandwidth': 'nm',\n",
    "            'quantum_yield': '',\n",
    "            'log_lifetime': 'ns'}\n",
    "\n",
    "my_order = {'lambda_max_abs':'1', 'lambda_max_emi':'1', 'both_peaks':'2', 'abs_all':'3', 'emi_all':'3', 'multitask_peak_stats':'4', 'multitask_all':'5', 'quantum_yield':'1', 'log_lifetime':'1'}"
   ]
  },
  {
   "cell_type": "code",
   "execution_count": null,
   "metadata": {},
   "outputs": [],
   "source": [
    "for opt_prop in opt_properties:\n",
    "    for split_type in split_types:\n",
    "        preds_file = os.path.join(CURR_DIR, 'uvvisml/models_same_test_set/'+ opt_prop + '_checkpoints/' + split_type + '/' + opt_prop + '_preds.csv')\n",
    "        true_file = os.path.join(CURR_DIR, 'uvvisml/data/splits_same_test_set/'+ opt_prop + '/deep4chem/' + split_type + '/smiles_target_test.csv')\n",
    "        col_names = prop_to_col_name[opt_prop]\n",
    "        if isinstance(col_names, list):\n",
    "            for n in col_names:\n",
    "                col_name = n\n",
    "                #title = opt_prop.replace('_', ' ') + ', ' + split_type.replace('_', ' ') + ', ' + col_name.replace('_', ' ')\n",
    "                title = opt_prop.replace('_', ' ')\n",
    "                units = col_units[col_name]\n",
    "                img_name = col_name + '__' + split_type + '__' + my_order[opt_prop] + opt_prop + '.png'\n",
    "                make_plot(preds_file, true_file, col_name, title, units, img_name)\n",
    "        else:\n",
    "            col_name = col_names\n",
    "            #title = opt_prop.replace('_', ' ') + ', ' + split_type.replace('_', ' ')\n",
    "            title = opt_prop.replace('_', ' ')\n",
    "            units = col_units[col_name]\n",
    "            if col_name == 'peakwavs_max':\n",
    "                img_name_col_name = 'abs_peakwavs_max'\n",
    "            else:\n",
    "                img_name_col_name = col_name\n",
    "            img_name = img_name_col_name + '__' + split_type + '__' + my_order[opt_prop] + 'alone.png'\n",
    "            make_plot(preds_file, true_file, col_name, title, units, img_name)"
   ]
  },
  {
   "cell_type": "code",
   "execution_count": null,
   "metadata": {},
   "outputs": [],
   "source": []
  }
 ],
 "metadata": {
  "language_info": {
   "name": "python"
  },
  "orig_nbformat": 4
 },
 "nbformat": 4,
 "nbformat_minor": 2
}
